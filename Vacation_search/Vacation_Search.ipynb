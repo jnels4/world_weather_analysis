{
 "cells": [
  {
   "cell_type": "code",
   "execution_count": 2,
   "id": "c4b4829f",
   "metadata": {},
   "outputs": [],
   "source": [
    "#jupyter nbextension enable --py --sys-prefix widgetsnbextension\n",
    "#pip install gmaps\n",
    "\n",
    "import pandas as pd\n",
    "import gmaps\n",
    "import requests\n",
    "from config import gKey\n",
    "gmaps.configure(api_key=gKey)"
   ]
  },
  {
   "cell_type": "code",
   "execution_count": 3,
   "id": "097505e0",
   "metadata": {},
   "outputs": [
    {
     "data": {
      "text/html": [
       "<div>\n",
       "<style scoped>\n",
       "    .dataframe tbody tr th:only-of-type {\n",
       "        vertical-align: middle;\n",
       "    }\n",
       "\n",
       "    .dataframe tbody tr th {\n",
       "        vertical-align: top;\n",
       "    }\n",
       "\n",
       "    .dataframe thead th {\n",
       "        text-align: right;\n",
       "    }\n",
       "</style>\n",
       "<table border=\"1\" class=\"dataframe\">\n",
       "  <thead>\n",
       "    <tr style=\"text-align: right;\">\n",
       "      <th></th>\n",
       "      <th>City_ID</th>\n",
       "      <th>City</th>\n",
       "      <th>Country</th>\n",
       "      <th>Lat</th>\n",
       "      <th>Lng</th>\n",
       "      <th>Max Temp</th>\n",
       "      <th>Humidity</th>\n",
       "      <th>Cloudiness</th>\n",
       "      <th>Wind Speed</th>\n",
       "      <th>Current Description</th>\n",
       "    </tr>\n",
       "  </thead>\n",
       "  <tbody>\n",
       "    <tr>\n",
       "      <th>0</th>\n",
       "      <td>0</td>\n",
       "      <td>Jamestown</td>\n",
       "      <td>US</td>\n",
       "      <td>42.0970</td>\n",
       "      <td>-79.2353</td>\n",
       "      <td>12.51</td>\n",
       "      <td>80</td>\n",
       "      <td>40</td>\n",
       "      <td>1.54</td>\n",
       "      <td>scattered clouds</td>\n",
       "    </tr>\n",
       "    <tr>\n",
       "      <th>1</th>\n",
       "      <td>1</td>\n",
       "      <td>Atuona</td>\n",
       "      <td>PF</td>\n",
       "      <td>-9.8000</td>\n",
       "      <td>-139.0333</td>\n",
       "      <td>25.91</td>\n",
       "      <td>78</td>\n",
       "      <td>11</td>\n",
       "      <td>8.11</td>\n",
       "      <td>few clouds</td>\n",
       "    </tr>\n",
       "    <tr>\n",
       "      <th>2</th>\n",
       "      <td>2</td>\n",
       "      <td>Upernavik</td>\n",
       "      <td>GL</td>\n",
       "      <td>72.7868</td>\n",
       "      <td>-56.1549</td>\n",
       "      <td>-0.77</td>\n",
       "      <td>90</td>\n",
       "      <td>100</td>\n",
       "      <td>6.34</td>\n",
       "      <td>overcast clouds</td>\n",
       "    </tr>\n",
       "    <tr>\n",
       "      <th>3</th>\n",
       "      <td>3</td>\n",
       "      <td>Urubicha</td>\n",
       "      <td>BO</td>\n",
       "      <td>-15.3833</td>\n",
       "      <td>-62.9500</td>\n",
       "      <td>20.81</td>\n",
       "      <td>87</td>\n",
       "      <td>100</td>\n",
       "      <td>0.36</td>\n",
       "      <td>overcast clouds</td>\n",
       "    </tr>\n",
       "    <tr>\n",
       "      <th>4</th>\n",
       "      <td>4</td>\n",
       "      <td>Carnarvon</td>\n",
       "      <td>AU</td>\n",
       "      <td>-24.8667</td>\n",
       "      <td>113.6333</td>\n",
       "      <td>21.98</td>\n",
       "      <td>57</td>\n",
       "      <td>0</td>\n",
       "      <td>6.11</td>\n",
       "      <td>clear sky</td>\n",
       "    </tr>\n",
       "  </tbody>\n",
       "</table>\n",
       "</div>"
      ],
      "text/plain": [
       "   City_ID       City Country      Lat       Lng  Max Temp  Humidity  \\\n",
       "0        0  Jamestown      US  42.0970  -79.2353     12.51        80   \n",
       "1        1     Atuona      PF  -9.8000 -139.0333     25.91        78   \n",
       "2        2  Upernavik      GL  72.7868  -56.1549     -0.77        90   \n",
       "3        3   Urubicha      BO -15.3833  -62.9500     20.81        87   \n",
       "4        4  Carnarvon      AU -24.8667  113.6333     21.98        57   \n",
       "\n",
       "   Cloudiness  Wind Speed Current Description  \n",
       "0          40        1.54    scattered clouds  \n",
       "1          11        8.11          few clouds  \n",
       "2         100        6.34     overcast clouds  \n",
       "3         100        0.36     overcast clouds  \n",
       "4           0        6.11           clear sky  "
      ]
     },
     "execution_count": 3,
     "metadata": {},
     "output_type": "execute_result"
    }
   ],
   "source": [
    "get_file = '../weather_database/WeatherPy_Database.csv'\n",
    "\n",
    "cityDataDf = pd.read_csv(get_file)\n",
    "cityDataDf.head()"
   ]
  },
  {
   "cell_type": "code",
   "execution_count": 5,
   "id": "c2bd2f90",
   "metadata": {},
   "outputs": [
    {
     "data": {
      "text/plain": [
       "City_ID                  int64\n",
       "City                    object\n",
       "Country                 object\n",
       "Lat                    float64\n",
       "Lng                    float64\n",
       "Max Temp               float64\n",
       "Humidity                 int64\n",
       "Cloudiness               int64\n",
       "Wind Speed             float64\n",
       "Current Description     object\n",
       "dtype: object"
      ]
     },
     "execution_count": 5,
     "metadata": {},
     "output_type": "execute_result"
    }
   ],
   "source": [
    "cityDataDf.dtypes"
   ]
  },
  {
   "cell_type": "code",
   "execution_count": 20,
   "id": "4bc847f1",
   "metadata": {},
   "outputs": [
    {
     "data": {
      "application/vnd.jupyter.widget-view+json": {
       "model_id": "fa81101a60ee4a2989a39e6524015b9d",
       "version_major": 2,
       "version_minor": 0
      },
      "text/plain": [
       "Figure(layout=FigureLayout(height='420px'))"
      ]
     },
     "metadata": {},
     "output_type": "display_data"
    }
   ],
   "source": [
    "#Heatmap of Temperature\n",
    "#ge lat and long\n",
    "locations = cityDataDf[['Lat','Lng']]\n",
    "\n",
    "#get max temp\n",
    "maxTemp = cityDataDf['Max Temp'].abs()\n",
    "\n",
    "#assign the figure variable\n",
    "fig = gmaps.figure(center=(30.0,30.0),zoom_level=1.5)\n",
    "\n",
    "#assign the layer variable a heatmap layer\n",
    "heat_layer = gmaps.heatmap_layer(locations, weights=maxTemp, dissipating=False, max_intensity =100, point_radius=4)\n",
    "\n",
    "#add the layer to the figure\n",
    "fig.add_layer(heat_layer)\n",
    "\n",
    "#call the figure to plot the data\n",
    "fig"
   ]
  },
  {
   "cell_type": "code",
   "execution_count": 22,
   "id": "8f1dd942",
   "metadata": {},
   "outputs": [
    {
     "data": {
      "application/vnd.jupyter.widget-view+json": {
       "model_id": "b1ae1e9505414e348768797a64a81d6c",
       "version_major": 2,
       "version_minor": 0
      },
      "text/plain": [
       "Figure(layout=FigureLayout(height='420px'))"
      ]
     },
     "metadata": {},
     "output_type": "display_data"
    }
   ],
   "source": [
    "#Heatmap of Temperature\n",
    "#ge lat and long\n",
    "locations = cityDataDf[['Lat','Lng']]\n",
    "\n",
    "#get max temp\n",
    "humidity = cityDataDf['Humidity']\n",
    "\n",
    "#assign the figure variable\n",
    "fig = gmaps.figure(center=(30.0,30.0),zoom_level=1.5)\n",
    "\n",
    "#assign the layer variable a heatmap layer\n",
    "heat_layer = gmaps.heatmap_layer(locations, weights=humidity, dissipating=False, max_intensity =150, point_radius=4)\n",
    "\n",
    "#add the layer to the figure\n",
    "fig.add_layer(heat_layer)\n",
    "\n",
    "#call the figure to plot the data\n",
    "fig"
   ]
  },
  {
   "cell_type": "code",
   "execution_count": 24,
   "id": "a31933f9",
   "metadata": {},
   "outputs": [
    {
     "data": {
      "application/vnd.jupyter.widget-view+json": {
       "model_id": "d7c075c37ee4448ea832846d9182a028",
       "version_major": 2,
       "version_minor": 0
      },
      "text/plain": [
       "Figure(layout=FigureLayout(height='420px'))"
      ]
     },
     "metadata": {},
     "output_type": "display_data"
    }
   ],
   "source": [
    "#Heatmap of Temperature\n",
    "#ge lat and long\n",
    "locations = cityDataDf[['Lat','Lng']]\n",
    "\n",
    "#get max temp\n",
    "cloudiness = cityDataDf['Cloudiness'].abs()\n",
    "\n",
    "#assign the figure variable\n",
    "fig = gmaps.figure(center=(30.0,30.0),zoom_level=1.5)\n",
    "\n",
    "#assign the layer variable a heatmap layer\n",
    "heat_layer = gmaps.heatmap_layer(locations, weights=cloudiness, dissipating=False, max_intensity =300, point_radius=4)\n",
    "\n",
    "#add the layer to the figure\n",
    "fig.add_layer(heat_layer)\n",
    "\n",
    "#call the figure to plot the data\n",
    "fig"
   ]
  },
  {
   "cell_type": "code",
   "execution_count": 27,
   "id": "ed61e344",
   "metadata": {},
   "outputs": [
    {
     "data": {
      "application/vnd.jupyter.widget-view+json": {
       "model_id": "36d437bc41e0497cbc8c40c415e4dcb3",
       "version_major": 2,
       "version_minor": 0
      },
      "text/plain": [
       "Figure(layout=FigureLayout(height='420px'))"
      ]
     },
     "metadata": {},
     "output_type": "display_data"
    }
   ],
   "source": [
    "#Heatmap of Temperature\n",
    "#ge lat and long\n",
    "locations = cityDataDf[['Lat','Lng']]\n",
    "\n",
    "#get max temp\n",
    "windSpeed = cityDataDf['Wind Speed']\n",
    "\n",
    "#assign the figure variable\n",
    "fig = gmaps.figure(center=(30.0,30.0),zoom_level=1.5)\n",
    "\n",
    "#assign the layer variable a heatmap layer\n",
    "heat_layer = gmaps.heatmap_layer(locations, weights=windSpeed, dissipating=False, max_intensity =50, point_radius=4)\n",
    "\n",
    "#add the layer to the figure\n",
    "fig.add_layer(heat_layer)\n",
    "\n",
    "#call the figure to plot the data\n",
    "fig"
   ]
  },
  {
   "cell_type": "code",
   "execution_count": 6,
   "id": "4fcfd551",
   "metadata": {},
   "outputs": [
    {
     "name": "stdout",
     "output_type": "stream",
     "text": [
      "What is the minimum temperature you would like for your trip?(C) 18\n",
      "What is the maximum temperature you would like for your trip?(C) 22\n"
     ]
    }
   ],
   "source": [
    "userMinTemp = float(input('What is the minimum temperature you would like for your trip?(C) '))\n",
    "userMaxTemp = float(input('What is the maximum temperature you would like for your trip?(C) '))\n"
   ]
  },
  {
   "cell_type": "code",
   "execution_count": 7,
   "id": "8093a490",
   "metadata": {},
   "outputs": [
    {
     "data": {
      "text/html": [
       "<div>\n",
       "<style scoped>\n",
       "    .dataframe tbody tr th:only-of-type {\n",
       "        vertical-align: middle;\n",
       "    }\n",
       "\n",
       "    .dataframe tbody tr th {\n",
       "        vertical-align: top;\n",
       "    }\n",
       "\n",
       "    .dataframe thead th {\n",
       "        text-align: right;\n",
       "    }\n",
       "</style>\n",
       "<table border=\"1\" class=\"dataframe\">\n",
       "  <thead>\n",
       "    <tr style=\"text-align: right;\">\n",
       "      <th></th>\n",
       "      <th>City_ID</th>\n",
       "      <th>City</th>\n",
       "      <th>Country</th>\n",
       "      <th>Lat</th>\n",
       "      <th>Lng</th>\n",
       "      <th>Max Temp</th>\n",
       "      <th>Humidity</th>\n",
       "      <th>Cloudiness</th>\n",
       "      <th>Wind Speed</th>\n",
       "      <th>Current Description</th>\n",
       "    </tr>\n",
       "  </thead>\n",
       "  <tbody>\n",
       "    <tr>\n",
       "      <th>3</th>\n",
       "      <td>3</td>\n",
       "      <td>Urubicha</td>\n",
       "      <td>BO</td>\n",
       "      <td>-15.3833</td>\n",
       "      <td>-62.9500</td>\n",
       "      <td>20.81</td>\n",
       "      <td>87</td>\n",
       "      <td>100</td>\n",
       "      <td>0.36</td>\n",
       "      <td>overcast clouds</td>\n",
       "    </tr>\n",
       "    <tr>\n",
       "      <th>4</th>\n",
       "      <td>4</td>\n",
       "      <td>Carnarvon</td>\n",
       "      <td>AU</td>\n",
       "      <td>-24.8667</td>\n",
       "      <td>113.6333</td>\n",
       "      <td>21.98</td>\n",
       "      <td>57</td>\n",
       "      <td>0</td>\n",
       "      <td>6.11</td>\n",
       "      <td>clear sky</td>\n",
       "    </tr>\n",
       "    <tr>\n",
       "      <th>6</th>\n",
       "      <td>6</td>\n",
       "      <td>Plettenberg Bay</td>\n",
       "      <td>ZA</td>\n",
       "      <td>-34.0527</td>\n",
       "      <td>23.3716</td>\n",
       "      <td>18.47</td>\n",
       "      <td>63</td>\n",
       "      <td>7</td>\n",
       "      <td>1.34</td>\n",
       "      <td>clear sky</td>\n",
       "    </tr>\n",
       "    <tr>\n",
       "      <th>22</th>\n",
       "      <td>22</td>\n",
       "      <td>Cape Town</td>\n",
       "      <td>ZA</td>\n",
       "      <td>-33.9258</td>\n",
       "      <td>18.4232</td>\n",
       "      <td>20.62</td>\n",
       "      <td>66</td>\n",
       "      <td>0</td>\n",
       "      <td>6.17</td>\n",
       "      <td>clear sky</td>\n",
       "    </tr>\n",
       "    <tr>\n",
       "      <th>23</th>\n",
       "      <td>23</td>\n",
       "      <td>Ribeira Grande</td>\n",
       "      <td>PT</td>\n",
       "      <td>38.5167</td>\n",
       "      <td>-28.7000</td>\n",
       "      <td>18.22</td>\n",
       "      <td>94</td>\n",
       "      <td>75</td>\n",
       "      <td>3.09</td>\n",
       "      <td>broken clouds</td>\n",
       "    </tr>\n",
       "  </tbody>\n",
       "</table>\n",
       "</div>"
      ],
      "text/plain": [
       "    City_ID             City Country      Lat       Lng  Max Temp  Humidity  \\\n",
       "3         3         Urubicha      BO -15.3833  -62.9500     20.81        87   \n",
       "4         4        Carnarvon      AU -24.8667  113.6333     21.98        57   \n",
       "6         6  Plettenberg Bay      ZA -34.0527   23.3716     18.47        63   \n",
       "22       22        Cape Town      ZA -33.9258   18.4232     20.62        66   \n",
       "23       23   Ribeira Grande      PT  38.5167  -28.7000     18.22        94   \n",
       "\n",
       "    Cloudiness  Wind Speed Current Description  \n",
       "3          100        0.36     overcast clouds  \n",
       "4            0        6.11           clear sky  \n",
       "6            7        1.34           clear sky  \n",
       "22           0        6.17           clear sky  \n",
       "23          75        3.09       broken clouds  "
      ]
     },
     "execution_count": 7,
     "metadata": {},
     "output_type": "execute_result"
    }
   ],
   "source": [
    "preferredCitiesDf = cityDataDf.loc[(cityDataDf['Max Temp'] <= userMaxTemp) & (cityDataDf['Max Temp']>= userMinTemp)]\n",
    "preferredCitiesDf.head()"
   ]
  },
  {
   "cell_type": "code",
   "execution_count": 8,
   "id": "5eeb796a",
   "metadata": {},
   "outputs": [
    {
     "data": {
      "text/plain": [
       "City_ID                0\n",
       "City                   0\n",
       "Country                4\n",
       "Lat                    0\n",
       "Lng                    0\n",
       "Max Temp               0\n",
       "Humidity               0\n",
       "Cloudiness             0\n",
       "Wind Speed             0\n",
       "Current Description    0\n",
       "dtype: int64"
      ]
     },
     "execution_count": 8,
     "metadata": {},
     "output_type": "execute_result"
    }
   ],
   "source": [
    "preferredCitiesDf.isnull().sum()"
   ]
  },
  {
   "cell_type": "code",
   "execution_count": 40,
   "id": "743bf89c",
   "metadata": {},
   "outputs": [
    {
     "data": {
      "text/plain": [
       "City_ID       274\n",
       "City          274\n",
       "Country       270\n",
       "Date          274\n",
       "Lat           274\n",
       "Lng           274\n",
       "Max Temp      274\n",
       "Humidity      274\n",
       "Cloudiness    274\n",
       "Wind Speed    274\n",
       "dtype: int64"
      ]
     },
     "execution_count": 40,
     "metadata": {},
     "output_type": "execute_result"
    }
   ],
   "source": [
    "preferredCitiesDf.count()"
   ]
  },
  {
   "cell_type": "code",
   "execution_count": 9,
   "id": "5eb8d4bf",
   "metadata": {},
   "outputs": [
    {
     "data": {
      "text/plain": [
       "City_ID                80\n",
       "City                   80\n",
       "Country                80\n",
       "Lat                    80\n",
       "Lng                    80\n",
       "Max Temp               80\n",
       "Humidity               80\n",
       "Cloudiness             80\n",
       "Wind Speed             80\n",
       "Current Description    80\n",
       "dtype: int64"
      ]
     },
     "execution_count": 9,
     "metadata": {},
     "output_type": "execute_result"
    }
   ],
   "source": [
    "#drop any null values\n",
    "preferredCitiesDf = preferredCitiesDf.dropna()\n",
    "preferredCitiesDf.count()"
   ]
  },
  {
   "cell_type": "code",
   "execution_count": 21,
   "id": "689f78b7",
   "metadata": {},
   "outputs": [
    {
     "data": {
      "text/html": [
       "<div>\n",
       "<style scoped>\n",
       "    .dataframe tbody tr th:only-of-type {\n",
       "        vertical-align: middle;\n",
       "    }\n",
       "\n",
       "    .dataframe tbody tr th {\n",
       "        vertical-align: top;\n",
       "    }\n",
       "\n",
       "    .dataframe thead th {\n",
       "        text-align: right;\n",
       "    }\n",
       "</style>\n",
       "<table border=\"1\" class=\"dataframe\">\n",
       "  <thead>\n",
       "    <tr style=\"text-align: right;\">\n",
       "      <th></th>\n",
       "      <th>City</th>\n",
       "      <th>Country</th>\n",
       "      <th>Max Temp</th>\n",
       "      <th>Lat</th>\n",
       "      <th>Lng</th>\n",
       "      <th>Current Description</th>\n",
       "      <th>Hotel Name</th>\n",
       "    </tr>\n",
       "  </thead>\n",
       "  <tbody>\n",
       "    <tr>\n",
       "      <th>3</th>\n",
       "      <td>Urubicha</td>\n",
       "      <td>BO</td>\n",
       "      <td>20.81</td>\n",
       "      <td>-15.3833</td>\n",
       "      <td>-62.9500</td>\n",
       "      <td>overcast clouds</td>\n",
       "      <td></td>\n",
       "    </tr>\n",
       "    <tr>\n",
       "      <th>4</th>\n",
       "      <td>Carnarvon</td>\n",
       "      <td>AU</td>\n",
       "      <td>21.98</td>\n",
       "      <td>-24.8667</td>\n",
       "      <td>113.6333</td>\n",
       "      <td>clear sky</td>\n",
       "      <td></td>\n",
       "    </tr>\n",
       "    <tr>\n",
       "      <th>6</th>\n",
       "      <td>Plettenberg Bay</td>\n",
       "      <td>ZA</td>\n",
       "      <td>18.47</td>\n",
       "      <td>-34.0527</td>\n",
       "      <td>23.3716</td>\n",
       "      <td>clear sky</td>\n",
       "      <td></td>\n",
       "    </tr>\n",
       "    <tr>\n",
       "      <th>22</th>\n",
       "      <td>Cape Town</td>\n",
       "      <td>ZA</td>\n",
       "      <td>20.62</td>\n",
       "      <td>-33.9258</td>\n",
       "      <td>18.4232</td>\n",
       "      <td>clear sky</td>\n",
       "      <td></td>\n",
       "    </tr>\n",
       "    <tr>\n",
       "      <th>23</th>\n",
       "      <td>Ribeira Grande</td>\n",
       "      <td>PT</td>\n",
       "      <td>18.22</td>\n",
       "      <td>38.5167</td>\n",
       "      <td>-28.7000</td>\n",
       "      <td>broken clouds</td>\n",
       "      <td></td>\n",
       "    </tr>\n",
       "    <tr>\n",
       "      <th>24</th>\n",
       "      <td>Hermanus</td>\n",
       "      <td>ZA</td>\n",
       "      <td>19.89</td>\n",
       "      <td>-34.4187</td>\n",
       "      <td>19.2345</td>\n",
       "      <td>overcast clouds</td>\n",
       "      <td></td>\n",
       "    </tr>\n",
       "    <tr>\n",
       "      <th>33</th>\n",
       "      <td>Itoman</td>\n",
       "      <td>JP</td>\n",
       "      <td>21.01</td>\n",
       "      <td>26.1247</td>\n",
       "      <td>127.6694</td>\n",
       "      <td>moderate rain</td>\n",
       "      <td></td>\n",
       "    </tr>\n",
       "    <tr>\n",
       "      <th>37</th>\n",
       "      <td>Lawrenceville</td>\n",
       "      <td>US</td>\n",
       "      <td>19.83</td>\n",
       "      <td>33.9562</td>\n",
       "      <td>-83.9880</td>\n",
       "      <td>moderate rain</td>\n",
       "      <td></td>\n",
       "    </tr>\n",
       "    <tr>\n",
       "      <th>48</th>\n",
       "      <td>Pingxiang</td>\n",
       "      <td>CN</td>\n",
       "      <td>18.38</td>\n",
       "      <td>27.6167</td>\n",
       "      <td>113.8500</td>\n",
       "      <td>overcast clouds</td>\n",
       "      <td></td>\n",
       "    </tr>\n",
       "    <tr>\n",
       "      <th>101</th>\n",
       "      <td>Balkhash</td>\n",
       "      <td>KZ</td>\n",
       "      <td>19.03</td>\n",
       "      <td>46.8440</td>\n",
       "      <td>74.9804</td>\n",
       "      <td>overcast clouds</td>\n",
       "      <td></td>\n",
       "    </tr>\n",
       "  </tbody>\n",
       "</table>\n",
       "</div>"
      ],
      "text/plain": [
       "                City Country  Max Temp      Lat       Lng Current Description  \\\n",
       "3           Urubicha      BO     20.81 -15.3833  -62.9500     overcast clouds   \n",
       "4          Carnarvon      AU     21.98 -24.8667  113.6333           clear sky   \n",
       "6    Plettenberg Bay      ZA     18.47 -34.0527   23.3716           clear sky   \n",
       "22         Cape Town      ZA     20.62 -33.9258   18.4232           clear sky   \n",
       "23    Ribeira Grande      PT     18.22  38.5167  -28.7000       broken clouds   \n",
       "24          Hermanus      ZA     19.89 -34.4187   19.2345     overcast clouds   \n",
       "33            Itoman      JP     21.01  26.1247  127.6694       moderate rain   \n",
       "37     Lawrenceville      US     19.83  33.9562  -83.9880       moderate rain   \n",
       "48         Pingxiang      CN     18.38  27.6167  113.8500     overcast clouds   \n",
       "101         Balkhash      KZ     19.03  46.8440   74.9804     overcast clouds   \n",
       "\n",
       "    Hotel Name  \n",
       "3               \n",
       "4               \n",
       "6               \n",
       "22              \n",
       "23              \n",
       "24              \n",
       "33              \n",
       "37              \n",
       "48              \n",
       "101             "
      ]
     },
     "execution_count": 21,
     "metadata": {},
     "output_type": "execute_result"
    }
   ],
   "source": [
    "#create hotel Df\n",
    "hotelDf = preferredCitiesDf[['City','Country','Max Temp','Lat','Lng','Current Description']].copy()\n",
    "hotelDf['Hotel Name']=''\n",
    "hotelDf.head(10)"
   ]
  },
  {
   "cell_type": "code",
   "execution_count": 22,
   "id": "56e80271",
   "metadata": {},
   "outputs": [
    {
     "name": "stdout",
     "output_type": "stream",
     "text": [
      "Hotel not found.\n",
      "Hotel not found.\n",
      "Hotel not found.\n",
      "Hotel not found.\n"
     ]
    }
   ],
   "source": [
    "hotelLat = hotelDf['Lat']\n",
    "hotelLng = hotelDf['Lng']\n",
    "params = {\n",
    "        'radius':5000,\n",
    "        'type':'lodging',\n",
    "        'key':gKey\n",
    "\n",
    "}\n",
    "baseUrl = 'https://maps.googleapis.com/maps/api/place/nearbysearch/json'\n",
    "for index, row in hotelDf.iterrows():\n",
    "    lat = row['Lat']\n",
    "    lng = row['Lng']\n",
    "    params['location']=f'{lat},{lng}'\n",
    "    \n",
    "    try:\n",
    "        hotels = requests.get(baseUrl,params=params).json()\n",
    "        hotelDf.loc[index, 'Hotel Name'] = hotels['results'][0]['name']\n",
    "    except (IndexError):\n",
    "        print('Hotel not found.')\n",
    "\n",
    "\n"
   ]
  },
  {
   "cell_type": "code",
   "execution_count": 23,
   "id": "dd89fc12",
   "metadata": {},
   "outputs": [],
   "source": [
    "nan_value = float('NaN')\n",
    "hotelDf.replace(\"\", nan_value, inplace=True)\n"
   ]
  },
  {
   "cell_type": "code",
   "execution_count": 24,
   "id": "4d11d977",
   "metadata": {},
   "outputs": [],
   "source": [
    "hotelDf = hotelDf.dropna()"
   ]
  },
  {
   "cell_type": "code",
   "execution_count": 27,
   "id": "c20c4ee3",
   "metadata": {},
   "outputs": [
    {
     "data": {
      "text/plain": [
       "City                   76\n",
       "Country                76\n",
       "Max Temp               76\n",
       "Lat                    76\n",
       "Lng                    76\n",
       "Current Description    76\n",
       "Hotel Name             76\n",
       "dtype: int64"
      ]
     },
     "execution_count": 27,
     "metadata": {},
     "output_type": "execute_result"
    }
   ],
   "source": [
    "hotelDf.count()"
   ]
  },
  {
   "cell_type": "code",
   "execution_count": 28,
   "id": "1040ce2d",
   "metadata": {},
   "outputs": [
    {
     "data": {
      "text/html": [
       "<div>\n",
       "<style scoped>\n",
       "    .dataframe tbody tr th:only-of-type {\n",
       "        vertical-align: middle;\n",
       "    }\n",
       "\n",
       "    .dataframe tbody tr th {\n",
       "        vertical-align: top;\n",
       "    }\n",
       "\n",
       "    .dataframe thead th {\n",
       "        text-align: right;\n",
       "    }\n",
       "</style>\n",
       "<table border=\"1\" class=\"dataframe\">\n",
       "  <thead>\n",
       "    <tr style=\"text-align: right;\">\n",
       "      <th></th>\n",
       "      <th>City</th>\n",
       "      <th>Country</th>\n",
       "      <th>Max Temp</th>\n",
       "      <th>Lat</th>\n",
       "      <th>Lng</th>\n",
       "      <th>Current Description</th>\n",
       "      <th>Hotel Name</th>\n",
       "    </tr>\n",
       "  </thead>\n",
       "  <tbody>\n",
       "    <tr>\n",
       "      <th>4</th>\n",
       "      <td>Carnarvon</td>\n",
       "      <td>AU</td>\n",
       "      <td>21.98</td>\n",
       "      <td>-24.8667</td>\n",
       "      <td>113.6333</td>\n",
       "      <td>clear sky</td>\n",
       "      <td>Hospitality Carnarvon</td>\n",
       "    </tr>\n",
       "    <tr>\n",
       "      <th>6</th>\n",
       "      <td>Plettenberg Bay</td>\n",
       "      <td>ZA</td>\n",
       "      <td>18.47</td>\n",
       "      <td>-34.0527</td>\n",
       "      <td>23.3716</td>\n",
       "      <td>clear sky</td>\n",
       "      <td>Thanda Vista B&amp;B</td>\n",
       "    </tr>\n",
       "    <tr>\n",
       "      <th>22</th>\n",
       "      <td>Cape Town</td>\n",
       "      <td>ZA</td>\n",
       "      <td>20.62</td>\n",
       "      <td>-33.9258</td>\n",
       "      <td>18.4232</td>\n",
       "      <td>clear sky</td>\n",
       "      <td>Radisson Blu Hotel Waterfront, Cape Town</td>\n",
       "    </tr>\n",
       "    <tr>\n",
       "      <th>23</th>\n",
       "      <td>Ribeira Grande</td>\n",
       "      <td>PT</td>\n",
       "      <td>18.22</td>\n",
       "      <td>38.5167</td>\n",
       "      <td>-28.7000</td>\n",
       "      <td>broken clouds</td>\n",
       "      <td>Quinta da Meia Eira</td>\n",
       "    </tr>\n",
       "    <tr>\n",
       "      <th>24</th>\n",
       "      <td>Hermanus</td>\n",
       "      <td>ZA</td>\n",
       "      <td>19.89</td>\n",
       "      <td>-34.4187</td>\n",
       "      <td>19.2345</td>\n",
       "      <td>overcast clouds</td>\n",
       "      <td>Misty Waves Boutique Hotel</td>\n",
       "    </tr>\n",
       "    <tr>\n",
       "      <th>33</th>\n",
       "      <td>Itoman</td>\n",
       "      <td>JP</td>\n",
       "      <td>21.01</td>\n",
       "      <td>26.1247</td>\n",
       "      <td>127.6694</td>\n",
       "      <td>moderate rain</td>\n",
       "      <td>Southern Beach Hotel &amp; Resort Okinawa</td>\n",
       "    </tr>\n",
       "    <tr>\n",
       "      <th>37</th>\n",
       "      <td>Lawrenceville</td>\n",
       "      <td>US</td>\n",
       "      <td>19.83</td>\n",
       "      <td>33.9562</td>\n",
       "      <td>-83.9880</td>\n",
       "      <td>moderate rain</td>\n",
       "      <td>Holiday Inn Express &amp; Suites Lawrenceville, an...</td>\n",
       "    </tr>\n",
       "    <tr>\n",
       "      <th>48</th>\n",
       "      <td>Pingxiang</td>\n",
       "      <td>CN</td>\n",
       "      <td>18.38</td>\n",
       "      <td>27.6167</td>\n",
       "      <td>113.8500</td>\n",
       "      <td>overcast clouds</td>\n",
       "      <td>Haiyuntian Hotel</td>\n",
       "    </tr>\n",
       "    <tr>\n",
       "      <th>101</th>\n",
       "      <td>Balkhash</td>\n",
       "      <td>KZ</td>\n",
       "      <td>19.03</td>\n",
       "      <td>46.8440</td>\n",
       "      <td>74.9804</td>\n",
       "      <td>overcast clouds</td>\n",
       "      <td>Family</td>\n",
       "    </tr>\n",
       "    <tr>\n",
       "      <th>107</th>\n",
       "      <td>Cabo San Lucas</td>\n",
       "      <td>MX</td>\n",
       "      <td>21.61</td>\n",
       "      <td>22.8909</td>\n",
       "      <td>-109.9124</td>\n",
       "      <td>clear sky</td>\n",
       "      <td>Hotel Tesoro Los Cabos</td>\n",
       "    </tr>\n",
       "  </tbody>\n",
       "</table>\n",
       "</div>"
      ],
      "text/plain": [
       "                City Country  Max Temp      Lat       Lng Current Description  \\\n",
       "4          Carnarvon      AU     21.98 -24.8667  113.6333           clear sky   \n",
       "6    Plettenberg Bay      ZA     18.47 -34.0527   23.3716           clear sky   \n",
       "22         Cape Town      ZA     20.62 -33.9258   18.4232           clear sky   \n",
       "23    Ribeira Grande      PT     18.22  38.5167  -28.7000       broken clouds   \n",
       "24          Hermanus      ZA     19.89 -34.4187   19.2345     overcast clouds   \n",
       "33            Itoman      JP     21.01  26.1247  127.6694       moderate rain   \n",
       "37     Lawrenceville      US     19.83  33.9562  -83.9880       moderate rain   \n",
       "48         Pingxiang      CN     18.38  27.6167  113.8500     overcast clouds   \n",
       "101         Balkhash      KZ     19.03  46.8440   74.9804     overcast clouds   \n",
       "107   Cabo San Lucas      MX     21.61  22.8909 -109.9124           clear sky   \n",
       "\n",
       "                                            Hotel Name  \n",
       "4                                Hospitality Carnarvon  \n",
       "6                                     Thanda Vista B&B  \n",
       "22            Radisson Blu Hotel Waterfront, Cape Town  \n",
       "23                                 Quinta da Meia Eira  \n",
       "24                          Misty Waves Boutique Hotel  \n",
       "33               Southern Beach Hotel & Resort Okinawa  \n",
       "37   Holiday Inn Express & Suites Lawrenceville, an...  \n",
       "48                                    Haiyuntian Hotel  \n",
       "101                                             Family  \n",
       "107                             Hotel Tesoro Los Cabos  "
      ]
     },
     "execution_count": 28,
     "metadata": {},
     "output_type": "execute_result"
    }
   ],
   "source": [
    "hotelDf.head(10)"
   ]
  },
  {
   "cell_type": "code",
   "execution_count": 29,
   "id": "6e0b108d",
   "metadata": {},
   "outputs": [
    {
     "data": {
      "application/vnd.jupyter.widget-view+json": {
       "model_id": "a881cb73c118445d8303f5795d6268d5",
       "version_major": 2,
       "version_minor": 0
      },
      "text/plain": [
       "Figure(layout=FigureLayout(height='420px'))"
      ]
     },
     "metadata": {},
     "output_type": "display_data"
    }
   ],
   "source": [
    "#info box template\n",
    "\n",
    "info_box_template = \"\"\"\n",
    "<dl>\n",
    "<dt>Hotel Name</dt><dd>{Hotel Name}</dd>\n",
    "<dt>City</dt><dd>{City}</dd>\n",
    "<dt>Country</dt><dd>{Country}</dd>\n",
    "<dt>Current Weather</dt><dd>{Current Description} and {Max Temp} °C</dd>\n",
    "</dl>\n",
    "\n",
    "\"\"\"\n",
    "hotelInfo = [info_box_template.format(**row) for index, row in hotelDf.iterrows()]\n",
    "#add a heatmap of temps for hotels\n",
    "locations = hotelDf[['Lat','Lng']]\n",
    "maxTemp = hotelDf['Max Temp'].abs()\n",
    "fig = gmaps.figure(center=(30.0,30.0),zoom_level=1.5)\n",
    "heat_layer = gmaps.heatmap_layer(locations, weights=maxTemp, \n",
    "                                 dissipating = False, max_intensity=100, point_radius=4)\n",
    "\n",
    "marker_layer = gmaps.marker_layer(locations, info_box_content=hotelInfo)\n",
    "\n",
    "fig.add_layer(heat_layer)\n",
    "fig.add_layer(marker_layer)\n",
    "fig\n"
   ]
  },
  {
   "cell_type": "code",
   "execution_count": 31,
   "id": "a42ea751",
   "metadata": {},
   "outputs": [],
   "source": [
    "output_data_file = 'WeatherPy_vacation.csv'\n",
    "hotelDf.to_csv(output_data_file,index_label=\"City_ID\")"
   ]
  },
  {
   "cell_type": "code",
   "execution_count": null,
   "id": "b818edae",
   "metadata": {},
   "outputs": [],
   "source": []
  }
 ],
 "metadata": {
  "kernelspec": {
   "display_name": "PythonData",
   "language": "python",
   "name": "pythondata"
  },
  "language_info": {
   "codemirror_mode": {
    "name": "ipython",
    "version": 3
   },
   "file_extension": ".py",
   "mimetype": "text/x-python",
   "name": "python",
   "nbconvert_exporter": "python",
   "pygments_lexer": "ipython3",
   "version": "3.9.7"
  }
 },
 "nbformat": 4,
 "nbformat_minor": 5
}
