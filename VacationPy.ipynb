{
 "cells": [
  {
   "cell_type": "code",
   "execution_count": 7,
   "id": "c4b4829f",
   "metadata": {},
   "outputs": [],
   "source": [
    "#jupyter nbextension enable --py --sys-prefix widgetsnbextension\n",
    "#pip install gmaps\n",
    "\n",
    "import pandas as pd\n",
    "import gmaps\n",
    "import requests\n",
    "from config import gKey\n",
    "gmaps.configure(api_key=gKey)"
   ]
  },
  {
   "cell_type": "code",
   "execution_count": 8,
   "id": "097505e0",
   "metadata": {},
   "outputs": [
    {
     "data": {
      "text/html": [
       "<div>\n",
       "<style scoped>\n",
       "    .dataframe tbody tr th:only-of-type {\n",
       "        vertical-align: middle;\n",
       "    }\n",
       "\n",
       "    .dataframe tbody tr th {\n",
       "        vertical-align: top;\n",
       "    }\n",
       "\n",
       "    .dataframe thead th {\n",
       "        text-align: right;\n",
       "    }\n",
       "</style>\n",
       "<table border=\"1\" class=\"dataframe\">\n",
       "  <thead>\n",
       "    <tr style=\"text-align: right;\">\n",
       "      <th></th>\n",
       "      <th>City_ID</th>\n",
       "      <th>City</th>\n",
       "      <th>Country</th>\n",
       "      <th>Date</th>\n",
       "      <th>Lat</th>\n",
       "      <th>Lng</th>\n",
       "      <th>Max Temp</th>\n",
       "      <th>Humidity</th>\n",
       "      <th>Cloudiness</th>\n",
       "      <th>Wind Speed</th>\n",
       "    </tr>\n",
       "  </thead>\n",
       "  <tbody>\n",
       "    <tr>\n",
       "      <th>0</th>\n",
       "      <td>0</td>\n",
       "      <td>Beruwala</td>\n",
       "      <td>LK</td>\n",
       "      <td>2022-05-22 20:04:28</td>\n",
       "      <td>6.4788</td>\n",
       "      <td>79.9828</td>\n",
       "      <td>26.34</td>\n",
       "      <td>86</td>\n",
       "      <td>25</td>\n",
       "      <td>4.26</td>\n",
       "    </tr>\n",
       "    <tr>\n",
       "      <th>1</th>\n",
       "      <td>1</td>\n",
       "      <td>Dikson</td>\n",
       "      <td>RU</td>\n",
       "      <td>2022-05-22 20:04:28</td>\n",
       "      <td>73.5069</td>\n",
       "      <td>80.5464</td>\n",
       "      <td>-6.40</td>\n",
       "      <td>92</td>\n",
       "      <td>48</td>\n",
       "      <td>3.51</td>\n",
       "    </tr>\n",
       "    <tr>\n",
       "      <th>2</th>\n",
       "      <td>2</td>\n",
       "      <td>Poum</td>\n",
       "      <td>NC</td>\n",
       "      <td>2022-05-22 20:04:28</td>\n",
       "      <td>-20.2333</td>\n",
       "      <td>164.0167</td>\n",
       "      <td>25.97</td>\n",
       "      <td>78</td>\n",
       "      <td>0</td>\n",
       "      <td>5.08</td>\n",
       "    </tr>\n",
       "    <tr>\n",
       "      <th>3</th>\n",
       "      <td>3</td>\n",
       "      <td>Vila Velha</td>\n",
       "      <td>BR</td>\n",
       "      <td>2022-05-22 20:00:18</td>\n",
       "      <td>-20.3297</td>\n",
       "      <td>-40.2925</td>\n",
       "      <td>22.16</td>\n",
       "      <td>70</td>\n",
       "      <td>52</td>\n",
       "      <td>2.24</td>\n",
       "    </tr>\n",
       "    <tr>\n",
       "      <th>4</th>\n",
       "      <td>4</td>\n",
       "      <td>Thunder Bay</td>\n",
       "      <td>CA</td>\n",
       "      <td>2022-05-22 19:59:37</td>\n",
       "      <td>48.4001</td>\n",
       "      <td>-89.3168</td>\n",
       "      <td>10.99</td>\n",
       "      <td>40</td>\n",
       "      <td>100</td>\n",
       "      <td>4.12</td>\n",
       "    </tr>\n",
       "  </tbody>\n",
       "</table>\n",
       "</div>"
      ],
      "text/plain": [
       "   City_ID         City Country                 Date      Lat       Lng  \\\n",
       "0        0     Beruwala      LK  2022-05-22 20:04:28   6.4788   79.9828   \n",
       "1        1       Dikson      RU  2022-05-22 20:04:28  73.5069   80.5464   \n",
       "2        2         Poum      NC  2022-05-22 20:04:28 -20.2333  164.0167   \n",
       "3        3   Vila Velha      BR  2022-05-22 20:00:18 -20.3297  -40.2925   \n",
       "4        4  Thunder Bay      CA  2022-05-22 19:59:37  48.4001  -89.3168   \n",
       "\n",
       "   Max Temp  Humidity  Cloudiness  Wind Speed  \n",
       "0     26.34        86          25        4.26  \n",
       "1     -6.40        92          48        3.51  \n",
       "2     25.97        78           0        5.08  \n",
       "3     22.16        70          52        2.24  \n",
       "4     10.99        40         100        4.12  "
      ]
     },
     "execution_count": 8,
     "metadata": {},
     "output_type": "execute_result"
    }
   ],
   "source": [
    "get_file = 'weather_data/cities.csv'\n",
    "\n",
    "cityDataDf = pd.read_csv(get_file)\n",
    "cityDataDf.head()"
   ]
  },
  {
   "cell_type": "code",
   "execution_count": 6,
   "id": "c2bd2f90",
   "metadata": {},
   "outputs": [
    {
     "data": {
      "text/plain": [
       "City_ID         int64\n",
       "City           object\n",
       "Country        object\n",
       "Date           object\n",
       "Lat           float64\n",
       "Lng           float64\n",
       "Max Temp      float64\n",
       "Humidity        int64\n",
       "Cloudiness      int64\n",
       "Wind Speed    float64\n",
       "dtype: object"
      ]
     },
     "execution_count": 6,
     "metadata": {},
     "output_type": "execute_result"
    }
   ],
   "source": [
    "weatherDataDf.dtypes"
   ]
  },
  {
   "cell_type": "code",
   "execution_count": 20,
   "id": "dfc493ff",
   "metadata": {},
   "outputs": [
    {
     "data": {
      "application/vnd.jupyter.widget-view+json": {
       "model_id": "fa81101a60ee4a2989a39e6524015b9d",
       "version_major": 2,
       "version_minor": 0
      },
      "text/plain": [
       "Figure(layout=FigureLayout(height='420px'))"
      ]
     },
     "metadata": {},
     "output_type": "display_data"
    }
   ],
   "source": [
    "#Heatmap of Temperature\n",
    "#ge lat and long\n",
    "locations = cityDataDf[['Lat','Lng']]\n",
    "\n",
    "#get max temp\n",
    "maxTemp = cityDataDf['Max Temp'].abs()\n",
    "\n",
    "#assign the figure variable\n",
    "fig = gmaps.figure(center=(30.0,30.0),zoom_level=1.5)\n",
    "\n",
    "#assign the layer variable a heatmap layer\n",
    "heat_layer = gmaps.heatmap_layer(locations, weights=maxTemp, dissipating=False, max_intensity =100, point_radius=4)\n",
    "\n",
    "#add the layer to the figure\n",
    "fig.add_layer(heat_layer)\n",
    "\n",
    "#call the figure to plot the data\n",
    "fig"
   ]
  },
  {
   "cell_type": "code",
   "execution_count": 22,
   "id": "92e47e75",
   "metadata": {},
   "outputs": [
    {
     "data": {
      "application/vnd.jupyter.widget-view+json": {
       "model_id": "b1ae1e9505414e348768797a64a81d6c",
       "version_major": 2,
       "version_minor": 0
      },
      "text/plain": [
       "Figure(layout=FigureLayout(height='420px'))"
      ]
     },
     "metadata": {},
     "output_type": "display_data"
    }
   ],
   "source": [
    "#Heatmap of Temperature\n",
    "#ge lat and long\n",
    "locations = cityDataDf[['Lat','Lng']]\n",
    "\n",
    "#get max temp\n",
    "humidity = cityDataDf['Humidity']\n",
    "\n",
    "#assign the figure variable\n",
    "fig = gmaps.figure(center=(30.0,30.0),zoom_level=1.5)\n",
    "\n",
    "#assign the layer variable a heatmap layer\n",
    "heat_layer = gmaps.heatmap_layer(locations, weights=humidity, dissipating=False, max_intensity =150, point_radius=4)\n",
    "\n",
    "#add the layer to the figure\n",
    "fig.add_layer(heat_layer)\n",
    "\n",
    "#call the figure to plot the data\n",
    "fig"
   ]
  },
  {
   "cell_type": "code",
   "execution_count": 24,
   "id": "e46aa225",
   "metadata": {},
   "outputs": [
    {
     "data": {
      "application/vnd.jupyter.widget-view+json": {
       "model_id": "d7c075c37ee4448ea832846d9182a028",
       "version_major": 2,
       "version_minor": 0
      },
      "text/plain": [
       "Figure(layout=FigureLayout(height='420px'))"
      ]
     },
     "metadata": {},
     "output_type": "display_data"
    }
   ],
   "source": [
    "#Heatmap of Temperature\n",
    "#ge lat and long\n",
    "locations = cityDataDf[['Lat','Lng']]\n",
    "\n",
    "#get max temp\n",
    "cloudiness = cityDataDf['Cloudiness'].abs()\n",
    "\n",
    "#assign the figure variable\n",
    "fig = gmaps.figure(center=(30.0,30.0),zoom_level=1.5)\n",
    "\n",
    "#assign the layer variable a heatmap layer\n",
    "heat_layer = gmaps.heatmap_layer(locations, weights=cloudiness, dissipating=False, max_intensity =300, point_radius=4)\n",
    "\n",
    "#add the layer to the figure\n",
    "fig.add_layer(heat_layer)\n",
    "\n",
    "#call the figure to plot the data\n",
    "fig"
   ]
  },
  {
   "cell_type": "code",
   "execution_count": 27,
   "id": "302bee0a",
   "metadata": {},
   "outputs": [
    {
     "data": {
      "application/vnd.jupyter.widget-view+json": {
       "model_id": "36d437bc41e0497cbc8c40c415e4dcb3",
       "version_major": 2,
       "version_minor": 0
      },
      "text/plain": [
       "Figure(layout=FigureLayout(height='420px'))"
      ]
     },
     "metadata": {},
     "output_type": "display_data"
    }
   ],
   "source": [
    "#Heatmap of Temperature\n",
    "#ge lat and long\n",
    "locations = cityDataDf[['Lat','Lng']]\n",
    "\n",
    "#get max temp\n",
    "windSpeed = cityDataDf['Wind Speed']\n",
    "\n",
    "#assign the figure variable\n",
    "fig = gmaps.figure(center=(30.0,30.0),zoom_level=1.5)\n",
    "\n",
    "#assign the layer variable a heatmap layer\n",
    "heat_layer = gmaps.heatmap_layer(locations, weights=windSpeed, dissipating=False, max_intensity =50, point_radius=4)\n",
    "\n",
    "#add the layer to the figure\n",
    "fig.add_layer(heat_layer)\n",
    "\n",
    "#call the figure to plot the data\n",
    "fig"
   ]
  },
  {
   "cell_type": "code",
   "execution_count": 31,
   "id": "a3ab2f6c",
   "metadata": {},
   "outputs": [
    {
     "name": "stdout",
     "output_type": "stream",
     "text": [
      "What is the minimum temperature you would like for your trip? 5\n",
      "What is the maximum temperature you would like for your trip? 22\n"
     ]
    }
   ],
   "source": [
    "userMinTemp = float(input('What is the minimum temperature you would like for your trip? '))\n",
    "userMaxTemp = float(input('What is the maximum temperature you would like for your trip? '))\n"
   ]
  },
  {
   "cell_type": "code",
   "execution_count": 32,
   "id": "8c2c9777",
   "metadata": {},
   "outputs": [
    {
     "data": {
      "text/html": [
       "<div>\n",
       "<style scoped>\n",
       "    .dataframe tbody tr th:only-of-type {\n",
       "        vertical-align: middle;\n",
       "    }\n",
       "\n",
       "    .dataframe tbody tr th {\n",
       "        vertical-align: top;\n",
       "    }\n",
       "\n",
       "    .dataframe thead th {\n",
       "        text-align: right;\n",
       "    }\n",
       "</style>\n",
       "<table border=\"1\" class=\"dataframe\">\n",
       "  <thead>\n",
       "    <tr style=\"text-align: right;\">\n",
       "      <th></th>\n",
       "      <th>City_ID</th>\n",
       "      <th>City</th>\n",
       "      <th>Country</th>\n",
       "      <th>Date</th>\n",
       "      <th>Lat</th>\n",
       "      <th>Lng</th>\n",
       "      <th>Max Temp</th>\n",
       "      <th>Humidity</th>\n",
       "      <th>Cloudiness</th>\n",
       "      <th>Wind Speed</th>\n",
       "    </tr>\n",
       "  </thead>\n",
       "  <tbody>\n",
       "    <tr>\n",
       "      <th>4</th>\n",
       "      <td>4</td>\n",
       "      <td>Thunder Bay</td>\n",
       "      <td>CA</td>\n",
       "      <td>2022-05-22 19:59:37</td>\n",
       "      <td>48.4001</td>\n",
       "      <td>-89.3168</td>\n",
       "      <td>10.99</td>\n",
       "      <td>40</td>\n",
       "      <td>100</td>\n",
       "      <td>4.12</td>\n",
       "    </tr>\n",
       "    <tr>\n",
       "      <th>8</th>\n",
       "      <td>8</td>\n",
       "      <td>Hobart</td>\n",
       "      <td>AU</td>\n",
       "      <td>2022-05-22 20:00:18</td>\n",
       "      <td>-42.8794</td>\n",
       "      <td>147.3294</td>\n",
       "      <td>10.14</td>\n",
       "      <td>86</td>\n",
       "      <td>100</td>\n",
       "      <td>4.12</td>\n",
       "    </tr>\n",
       "    <tr>\n",
       "      <th>9</th>\n",
       "      <td>9</td>\n",
       "      <td>Necochea</td>\n",
       "      <td>AR</td>\n",
       "      <td>2022-05-22 20:00:30</td>\n",
       "      <td>-38.5473</td>\n",
       "      <td>-58.7368</td>\n",
       "      <td>14.77</td>\n",
       "      <td>51</td>\n",
       "      <td>100</td>\n",
       "      <td>5.31</td>\n",
       "    </tr>\n",
       "    <tr>\n",
       "      <th>10</th>\n",
       "      <td>10</td>\n",
       "      <td>Emerald</td>\n",
       "      <td>AU</td>\n",
       "      <td>2022-05-22 19:59:51</td>\n",
       "      <td>-23.5333</td>\n",
       "      <td>148.1667</td>\n",
       "      <td>15.19</td>\n",
       "      <td>88</td>\n",
       "      <td>58</td>\n",
       "      <td>5.33</td>\n",
       "    </tr>\n",
       "    <tr>\n",
       "      <th>11</th>\n",
       "      <td>11</td>\n",
       "      <td>Havre-Saint-Pierre</td>\n",
       "      <td>CA</td>\n",
       "      <td>2022-05-22 20:04:30</td>\n",
       "      <td>50.2334</td>\n",
       "      <td>-63.5986</td>\n",
       "      <td>9.20</td>\n",
       "      <td>81</td>\n",
       "      <td>100</td>\n",
       "      <td>3.60</td>\n",
       "    </tr>\n",
       "  </tbody>\n",
       "</table>\n",
       "</div>"
      ],
      "text/plain": [
       "    City_ID                City Country                 Date      Lat  \\\n",
       "4         4         Thunder Bay      CA  2022-05-22 19:59:37  48.4001   \n",
       "8         8              Hobart      AU  2022-05-22 20:00:18 -42.8794   \n",
       "9         9            Necochea      AR  2022-05-22 20:00:30 -38.5473   \n",
       "10       10             Emerald      AU  2022-05-22 19:59:51 -23.5333   \n",
       "11       11  Havre-Saint-Pierre      CA  2022-05-22 20:04:30  50.2334   \n",
       "\n",
       "         Lng  Max Temp  Humidity  Cloudiness  Wind Speed  \n",
       "4   -89.3168     10.99        40         100        4.12  \n",
       "8   147.3294     10.14        86         100        4.12  \n",
       "9   -58.7368     14.77        51         100        5.31  \n",
       "10  148.1667     15.19        88          58        5.33  \n",
       "11  -63.5986      9.20        81         100        3.60  "
      ]
     },
     "execution_count": 32,
     "metadata": {},
     "output_type": "execute_result"
    }
   ],
   "source": [
    "preferredCitiesDf = cityDataDf.loc[(cityDataDf['Max Temp'] <= userMaxTemp) & (cityDataDf['Max Temp']>= userMinTemp)]\n",
    "preferredCitiesDf.head()"
   ]
  },
  {
   "cell_type": "code",
   "execution_count": 35,
   "id": "ac5c7389",
   "metadata": {},
   "outputs": [
    {
     "data": {
      "text/plain": [
       "City_ID       0\n",
       "City          0\n",
       "Country       4\n",
       "Date          0\n",
       "Lat           0\n",
       "Lng           0\n",
       "Max Temp      0\n",
       "Humidity      0\n",
       "Cloudiness    0\n",
       "Wind Speed    0\n",
       "dtype: int64"
      ]
     },
     "execution_count": 35,
     "metadata": {},
     "output_type": "execute_result"
    }
   ],
   "source": [
    "preferredCitiesDf.isnull().sum()"
   ]
  },
  {
   "cell_type": "code",
   "execution_count": 40,
   "id": "f6554a6d",
   "metadata": {},
   "outputs": [
    {
     "data": {
      "text/plain": [
       "City_ID       274\n",
       "City          274\n",
       "Country       270\n",
       "Date          274\n",
       "Lat           274\n",
       "Lng           274\n",
       "Max Temp      274\n",
       "Humidity      274\n",
       "Cloudiness    274\n",
       "Wind Speed    274\n",
       "dtype: int64"
      ]
     },
     "execution_count": 40,
     "metadata": {},
     "output_type": "execute_result"
    }
   ],
   "source": [
    "preferredCitiesDf.count()"
   ]
  },
  {
   "cell_type": "code",
   "execution_count": 41,
   "id": "59195945",
   "metadata": {},
   "outputs": [
    {
     "data": {
      "text/plain": [
       "City_ID       270\n",
       "City          270\n",
       "Country       270\n",
       "Date          270\n",
       "Lat           270\n",
       "Lng           270\n",
       "Max Temp      270\n",
       "Humidity      270\n",
       "Cloudiness    270\n",
       "Wind Speed    270\n",
       "dtype: int64"
      ]
     },
     "execution_count": 41,
     "metadata": {},
     "output_type": "execute_result"
    }
   ],
   "source": [
    "#drop any null values\n",
    "preferredCitiesDf = preferredCitiesDf.dropna()\n",
    "preferredCitiesDf.count()"
   ]
  },
  {
   "cell_type": "code",
   "execution_count": 42,
   "id": "5b2b0c66",
   "metadata": {},
   "outputs": [
    {
     "data": {
      "text/html": [
       "<div>\n",
       "<style scoped>\n",
       "    .dataframe tbody tr th:only-of-type {\n",
       "        vertical-align: middle;\n",
       "    }\n",
       "\n",
       "    .dataframe tbody tr th {\n",
       "        vertical-align: top;\n",
       "    }\n",
       "\n",
       "    .dataframe thead th {\n",
       "        text-align: right;\n",
       "    }\n",
       "</style>\n",
       "<table border=\"1\" class=\"dataframe\">\n",
       "  <thead>\n",
       "    <tr style=\"text-align: right;\">\n",
       "      <th></th>\n",
       "      <th>City</th>\n",
       "      <th>Country</th>\n",
       "      <th>Max Temp</th>\n",
       "      <th>Lat</th>\n",
       "      <th>Lng</th>\n",
       "      <th>Hotel Name</th>\n",
       "    </tr>\n",
       "  </thead>\n",
       "  <tbody>\n",
       "    <tr>\n",
       "      <th>4</th>\n",
       "      <td>Thunder Bay</td>\n",
       "      <td>CA</td>\n",
       "      <td>10.99</td>\n",
       "      <td>48.4001</td>\n",
       "      <td>-89.3168</td>\n",
       "      <td></td>\n",
       "    </tr>\n",
       "    <tr>\n",
       "      <th>8</th>\n",
       "      <td>Hobart</td>\n",
       "      <td>AU</td>\n",
       "      <td>10.14</td>\n",
       "      <td>-42.8794</td>\n",
       "      <td>147.3294</td>\n",
       "      <td></td>\n",
       "    </tr>\n",
       "    <tr>\n",
       "      <th>9</th>\n",
       "      <td>Necochea</td>\n",
       "      <td>AR</td>\n",
       "      <td>14.77</td>\n",
       "      <td>-38.5473</td>\n",
       "      <td>-58.7368</td>\n",
       "      <td></td>\n",
       "    </tr>\n",
       "    <tr>\n",
       "      <th>10</th>\n",
       "      <td>Emerald</td>\n",
       "      <td>AU</td>\n",
       "      <td>15.19</td>\n",
       "      <td>-23.5333</td>\n",
       "      <td>148.1667</td>\n",
       "      <td></td>\n",
       "    </tr>\n",
       "    <tr>\n",
       "      <th>11</th>\n",
       "      <td>Havre-Saint-Pierre</td>\n",
       "      <td>CA</td>\n",
       "      <td>9.20</td>\n",
       "      <td>50.2334</td>\n",
       "      <td>-63.5986</td>\n",
       "      <td></td>\n",
       "    </tr>\n",
       "    <tr>\n",
       "      <th>13</th>\n",
       "      <td>Torbay</td>\n",
       "      <td>CA</td>\n",
       "      <td>16.27</td>\n",
       "      <td>47.6666</td>\n",
       "      <td>-52.7314</td>\n",
       "      <td></td>\n",
       "    </tr>\n",
       "    <tr>\n",
       "      <th>14</th>\n",
       "      <td>Piuma</td>\n",
       "      <td>BR</td>\n",
       "      <td>20.71</td>\n",
       "      <td>-20.8378</td>\n",
       "      <td>-40.7219</td>\n",
       "      <td></td>\n",
       "    </tr>\n",
       "    <tr>\n",
       "      <th>16</th>\n",
       "      <td>Hamilton</td>\n",
       "      <td>US</td>\n",
       "      <td>20.99</td>\n",
       "      <td>39.1834</td>\n",
       "      <td>-84.5333</td>\n",
       "      <td></td>\n",
       "    </tr>\n",
       "    <tr>\n",
       "      <th>19</th>\n",
       "      <td>Castro</td>\n",
       "      <td>BR</td>\n",
       "      <td>14.80</td>\n",
       "      <td>-24.7911</td>\n",
       "      <td>-50.0119</td>\n",
       "      <td></td>\n",
       "    </tr>\n",
       "    <tr>\n",
       "      <th>20</th>\n",
       "      <td>Geraldton</td>\n",
       "      <td>AU</td>\n",
       "      <td>19.23</td>\n",
       "      <td>-28.7667</td>\n",
       "      <td>114.6000</td>\n",
       "      <td></td>\n",
       "    </tr>\n",
       "  </tbody>\n",
       "</table>\n",
       "</div>"
      ],
      "text/plain": [
       "                  City Country  Max Temp      Lat       Lng Hotel Name\n",
       "4          Thunder Bay      CA     10.99  48.4001  -89.3168           \n",
       "8               Hobart      AU     10.14 -42.8794  147.3294           \n",
       "9             Necochea      AR     14.77 -38.5473  -58.7368           \n",
       "10             Emerald      AU     15.19 -23.5333  148.1667           \n",
       "11  Havre-Saint-Pierre      CA      9.20  50.2334  -63.5986           \n",
       "13              Torbay      CA     16.27  47.6666  -52.7314           \n",
       "14               Piuma      BR     20.71 -20.8378  -40.7219           \n",
       "16            Hamilton      US     20.99  39.1834  -84.5333           \n",
       "19              Castro      BR     14.80 -24.7911  -50.0119           \n",
       "20           Geraldton      AU     19.23 -28.7667  114.6000           "
      ]
     },
     "execution_count": 42,
     "metadata": {},
     "output_type": "execute_result"
    }
   ],
   "source": [
    "#create hotel Df\n",
    "hotelDf = preferredCitiesDf[['City','Country','Max Temp','Lat','Lng']].copy()\n",
    "hotelDf['Hotel Name']=''\n",
    "hotelDf.head(10)"
   ]
  },
  {
   "cell_type": "code",
   "execution_count": 44,
   "id": "bd4e1414",
   "metadata": {},
   "outputs": [
    {
     "name": "stdout",
     "output_type": "stream",
     "text": [
      "Hotel not found.\n",
      "Hotel not found.\n",
      "Hotel not found.\n",
      "Hotel not found.\n",
      "Hotel not found.\n",
      "Hotel not found.\n",
      "Hotel not found.\n",
      "Hotel not found.\n",
      "Hotel not found.\n",
      "Hotel not found.\n",
      "Hotel not found.\n",
      "Hotel not found.\n",
      "Hotel not found.\n",
      "Hotel not found.\n",
      "Hotel not found.\n",
      "Hotel not found.\n",
      "Hotel not found.\n",
      "Hotel not found.\n",
      "Hotel not found.\n",
      "Hotel not found.\n",
      "Hotel not found.\n",
      "Hotel not found.\n"
     ]
    }
   ],
   "source": [
    "hotelLat = hotelDf['Lat']\n",
    "hotelLng = hotelDf['Lng']\n",
    "params = {\n",
    "        'radius':5000,\n",
    "        'type':'lodging',\n",
    "        'key':gKey\n",
    "\n",
    "}\n",
    "baseUrl = 'https://maps.googleapis.com/maps/api/place/nearbysearch/json'\n",
    "for index, row in hotelDf.iterrows():\n",
    "    lat = row['Lat']\n",
    "    lng = row['Lng']\n",
    "    params['location']=f'{lat},{lng}'\n",
    "    \n",
    "    try:\n",
    "        hotels = requests.get(baseUrl,params=params).json()\n",
    "        hotelDf.loc[index, 'Hotel Name'] = hotels['results'][0]['name']\n",
    "    except (IndexError):\n",
    "        print('Hotel not found.')\n",
    "\n",
    "\n"
   ]
  },
  {
   "cell_type": "code",
   "execution_count": 45,
   "id": "d7a8a67d",
   "metadata": {},
   "outputs": [
    {
     "data": {
      "text/html": [
       "<div>\n",
       "<style scoped>\n",
       "    .dataframe tbody tr th:only-of-type {\n",
       "        vertical-align: middle;\n",
       "    }\n",
       "\n",
       "    .dataframe tbody tr th {\n",
       "        vertical-align: top;\n",
       "    }\n",
       "\n",
       "    .dataframe thead th {\n",
       "        text-align: right;\n",
       "    }\n",
       "</style>\n",
       "<table border=\"1\" class=\"dataframe\">\n",
       "  <thead>\n",
       "    <tr style=\"text-align: right;\">\n",
       "      <th></th>\n",
       "      <th>City</th>\n",
       "      <th>Country</th>\n",
       "      <th>Max Temp</th>\n",
       "      <th>Lat</th>\n",
       "      <th>Lng</th>\n",
       "      <th>Hotel Name</th>\n",
       "    </tr>\n",
       "  </thead>\n",
       "  <tbody>\n",
       "    <tr>\n",
       "      <th>4</th>\n",
       "      <td>Thunder Bay</td>\n",
       "      <td>CA</td>\n",
       "      <td>10.99</td>\n",
       "      <td>48.4001</td>\n",
       "      <td>-89.3168</td>\n",
       "      <td>Victoria Inn Hotel and Convention Centre</td>\n",
       "    </tr>\n",
       "    <tr>\n",
       "      <th>8</th>\n",
       "      <td>Hobart</td>\n",
       "      <td>AU</td>\n",
       "      <td>10.14</td>\n",
       "      <td>-42.8794</td>\n",
       "      <td>147.3294</td>\n",
       "      <td>St Ives Hobart Accommodation Tasmania</td>\n",
       "    </tr>\n",
       "    <tr>\n",
       "      <th>9</th>\n",
       "      <td>Necochea</td>\n",
       "      <td>AR</td>\n",
       "      <td>14.77</td>\n",
       "      <td>-38.5473</td>\n",
       "      <td>-58.7368</td>\n",
       "      <td>dyd -mar Hotel</td>\n",
       "    </tr>\n",
       "    <tr>\n",
       "      <th>10</th>\n",
       "      <td>Emerald</td>\n",
       "      <td>AU</td>\n",
       "      <td>15.19</td>\n",
       "      <td>-23.5333</td>\n",
       "      <td>148.1667</td>\n",
       "      <td>The Irish Village</td>\n",
       "    </tr>\n",
       "    <tr>\n",
       "      <th>11</th>\n",
       "      <td>Havre-Saint-Pierre</td>\n",
       "      <td>CA</td>\n",
       "      <td>9.20</td>\n",
       "      <td>50.2334</td>\n",
       "      <td>-63.5986</td>\n",
       "      <td>Auberge Niapiskau</td>\n",
       "    </tr>\n",
       "    <tr>\n",
       "      <th>13</th>\n",
       "      <td>Torbay</td>\n",
       "      <td>CA</td>\n",
       "      <td>16.27</td>\n",
       "      <td>47.6666</td>\n",
       "      <td>-52.7314</td>\n",
       "      <td>Gallows Cove</td>\n",
       "    </tr>\n",
       "    <tr>\n",
       "      <th>14</th>\n",
       "      <td>Piuma</td>\n",
       "      <td>BR</td>\n",
       "      <td>20.71</td>\n",
       "      <td>-20.8378</td>\n",
       "      <td>-40.7219</td>\n",
       "      <td>Piúma Praia Hotel</td>\n",
       "    </tr>\n",
       "    <tr>\n",
       "      <th>16</th>\n",
       "      <td>Hamilton</td>\n",
       "      <td>US</td>\n",
       "      <td>20.99</td>\n",
       "      <td>39.1834</td>\n",
       "      <td>-84.5333</td>\n",
       "      <td>Six Acres Bed &amp; Breakfast</td>\n",
       "    </tr>\n",
       "    <tr>\n",
       "      <th>19</th>\n",
       "      <td>Castro</td>\n",
       "      <td>BR</td>\n",
       "      <td>14.80</td>\n",
       "      <td>-24.7911</td>\n",
       "      <td>-50.0119</td>\n",
       "      <td>CHACARA BAILLY</td>\n",
       "    </tr>\n",
       "    <tr>\n",
       "      <th>20</th>\n",
       "      <td>Geraldton</td>\n",
       "      <td>AU</td>\n",
       "      <td>19.23</td>\n",
       "      <td>-28.7667</td>\n",
       "      <td>114.6000</td>\n",
       "      <td>Broadwater Mariner Resort</td>\n",
       "    </tr>\n",
       "  </tbody>\n",
       "</table>\n",
       "</div>"
      ],
      "text/plain": [
       "                  City Country  Max Temp      Lat       Lng  \\\n",
       "4          Thunder Bay      CA     10.99  48.4001  -89.3168   \n",
       "8               Hobart      AU     10.14 -42.8794  147.3294   \n",
       "9             Necochea      AR     14.77 -38.5473  -58.7368   \n",
       "10             Emerald      AU     15.19 -23.5333  148.1667   \n",
       "11  Havre-Saint-Pierre      CA      9.20  50.2334  -63.5986   \n",
       "13              Torbay      CA     16.27  47.6666  -52.7314   \n",
       "14               Piuma      BR     20.71 -20.8378  -40.7219   \n",
       "16            Hamilton      US     20.99  39.1834  -84.5333   \n",
       "19              Castro      BR     14.80 -24.7911  -50.0119   \n",
       "20           Geraldton      AU     19.23 -28.7667  114.6000   \n",
       "\n",
       "                                  Hotel Name  \n",
       "4   Victoria Inn Hotel and Convention Centre  \n",
       "8      St Ives Hobart Accommodation Tasmania  \n",
       "9                             dyd -mar Hotel  \n",
       "10                         The Irish Village  \n",
       "11                         Auberge Niapiskau  \n",
       "13                              Gallows Cove  \n",
       "14                         Piúma Praia Hotel  \n",
       "16                 Six Acres Bed & Breakfast  \n",
       "19                            CHACARA BAILLY  \n",
       "20                 Broadwater Mariner Resort  "
      ]
     },
     "execution_count": 45,
     "metadata": {},
     "output_type": "execute_result"
    }
   ],
   "source": [
    "hotelDf.head(10)"
   ]
  },
  {
   "cell_type": "code",
   "execution_count": 49,
   "id": "0a70f4a5",
   "metadata": {},
   "outputs": [
    {
     "data": {
      "application/vnd.jupyter.widget-view+json": {
       "model_id": "a50ad4eb16de418380c074c394f02fb1",
       "version_major": 2,
       "version_minor": 0
      },
      "text/plain": [
       "Figure(layout=FigureLayout(height='420px'))"
      ]
     },
     "metadata": {},
     "output_type": "display_data"
    }
   ],
   "source": [
    "#info box template\n",
    "\n",
    "info_box_template = \"\"\"\n",
    "<dl>\n",
    "<dt>Hotel Name</dt><dd>{Hotel Name}</dd>\n",
    "<dt>City</dt><dd>{City}</dd>\n",
    "<dt>Country</dt><dd>{Country}</dd>\n",
    "<dt>Max Temp</dt><dd>{Max Temp} °C</dd>\n",
    "</dl>\n",
    "\n",
    "\"\"\"\n",
    "hotelInfo = [info_box_template.format(**row) for index, row in hotelDf.iterrows()]\n",
    "#add a heatmap of temps for hotels\n",
    "locations = hotelDf[['Lat','Lng']]\n",
    "maxTemp = hotelDf['Max Temp'].abs()\n",
    "fig = gmaps.figure(center=(30.0,30.0),zoom_level=1.5)\n",
    "heat_layer = gmaps.heatmap_layer(locations, weights=maxTemp, \n",
    "                                 dissipating = False, max_intensity=100, point_radius=4)\n",
    "\n",
    "marker_layer = gmaps.marker_layer(locations, info_box_content=hotelInfo)\n",
    "\n",
    "fig.add_layer(heat_layer)\n",
    "fig.add_layer(marker_layer)\n",
    "fig\n"
   ]
  },
  {
   "cell_type": "code",
   "execution_count": null,
   "id": "19986c67",
   "metadata": {},
   "outputs": [],
   "source": []
  }
 ],
 "metadata": {
  "kernelspec": {
   "display_name": "PythonData",
   "language": "python",
   "name": "pythondata"
  },
  "language_info": {
   "codemirror_mode": {
    "name": "ipython",
    "version": 3
   },
   "file_extension": ".py",
   "mimetype": "text/x-python",
   "name": "python",
   "nbconvert_exporter": "python",
   "pygments_lexer": "ipython3",
   "version": "3.9.7"
  }
 },
 "nbformat": 4,
 "nbformat_minor": 5
}
